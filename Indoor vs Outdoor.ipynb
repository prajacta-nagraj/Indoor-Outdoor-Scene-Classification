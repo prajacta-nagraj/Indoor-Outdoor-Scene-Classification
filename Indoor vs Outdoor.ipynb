{
 "cells": [
  {
   "cell_type": "code",
   "execution_count": 1,
   "metadata": {},
   "outputs": [
    {
     "name": "stderr",
     "output_type": "stream",
     "text": [
      "Using TensorFlow backend.\n"
     ]
    }
   ],
   "source": [
    "from keras.utils import np_utils\n",
    "import numpy as np\n",
    "import keras\n",
    "from time import time"
   ]
  },
  {
   "cell_type": "code",
   "execution_count": 2,
   "metadata": {},
   "outputs": [],
   "source": [
    "datagen=keras.preprocessing.image.ImageDataGenerator(rescale=1./255, zoom_range=0.2, horizontal_flip=True)"
   ]
  },
  {
   "cell_type": "code",
   "execution_count": 3,
   "metadata": {},
   "outputs": [
    {
     "name": "stdout",
     "output_type": "stream",
     "text": [
      "Found 1979 images belonging to 2 classes.\n"
     ]
    }
   ],
   "source": [
    "\n",
    "train_data = datagen.flow_from_directory(\n",
    "        directory=r'/home/prajacta/yt8m/youtube-8m-videos-frames/train1',\n",
    "        target_size=(64, 64),\n",
    "        batch_size=32,\n",
    "        class_mode=\"binary\")"
   ]
  },
  {
   "cell_type": "code",
   "execution_count": 4,
   "metadata": {},
   "outputs": [
    {
     "name": "stdout",
     "output_type": "stream",
     "text": [
      "Found 250 images belonging to 2 classes.\n"
     ]
    }
   ],
   "source": [
    "test_data = datagen.flow_from_directory(\n",
    "    directory=r\"/home/prajacta/yt8m/youtube-8m-videos-frames/1\",\n",
    "    target_size=(64, 64),\n",
    "    color_mode=\"rgb\",\n",
    "    batch_size=32,\n",
    "    class_mode=\"binary\",\n",
    ")"
   ]
  },
  {
   "cell_type": "code",
   "execution_count": 5,
   "metadata": {},
   "outputs": [
    {
     "name": "stdout",
     "output_type": "stream",
     "text": [
      "Found 246 images belonging to 2 classes.\n"
     ]
    }
   ],
   "source": [
    "valid_data = datagen.flow_from_directory(\n",
    "    directory=r\"/home/prajacta/yt8m/youtube-8m-videos-frames/val1\",\n",
    "    target_size=(64, 64),\n",
    "    color_mode=\"rgb\",\n",
    "    batch_size=32,\n",
    "    class_mode=\"binary\",\n",
    ")"
   ]
  },
  {
   "cell_type": "code",
   "execution_count": 6,
   "metadata": {},
   "outputs": [
    {
     "name": "stdout",
     "output_type": "stream",
     "text": [
      "_________________________________________________________________\n",
      "Layer (type)                 Output Shape              Param #   \n",
      "=================================================================\n",
      "conv2d_1 (Conv2D)            (None, 62, 62, 32)        896       \n",
      "_________________________________________________________________\n",
      "activation_1 (Activation)    (None, 62, 62, 32)        0         \n",
      "_________________________________________________________________\n",
      "max_pooling2d_1 (MaxPooling2 (None, 31, 31, 32)        0         \n",
      "_________________________________________________________________\n",
      "conv2d_2 (Conv2D)            (None, 29, 29, 32)        9248      \n",
      "_________________________________________________________________\n",
      "activation_2 (Activation)    (None, 29, 29, 32)        0         \n",
      "_________________________________________________________________\n",
      "max_pooling2d_2 (MaxPooling2 (None, 14, 14, 32)        0         \n",
      "_________________________________________________________________\n",
      "conv2d_3 (Conv2D)            (None, 12, 12, 64)        18496     \n",
      "_________________________________________________________________\n",
      "activation_3 (Activation)    (None, 12, 12, 64)        0         \n",
      "_________________________________________________________________\n",
      "max_pooling2d_3 (MaxPooling2 (None, 6, 6, 64)          0         \n",
      "_________________________________________________________________\n",
      "flatten_1 (Flatten)          (None, 2304)              0         \n",
      "_________________________________________________________________\n",
      "dense_1 (Dense)              (None, 64)                147520    \n",
      "_________________________________________________________________\n",
      "activation_4 (Activation)    (None, 64)                0         \n",
      "_________________________________________________________________\n",
      "dropout_1 (Dropout)          (None, 64)                0         \n",
      "_________________________________________________________________\n",
      "dense_2 (Dense)              (None, 1)                 65        \n",
      "_________________________________________________________________\n",
      "activation_5 (Activation)    (None, 1)                 0         \n",
      "=================================================================\n",
      "Total params: 176,225\n",
      "Trainable params: 176,225\n",
      "Non-trainable params: 0\n",
      "_________________________________________________________________\n"
     ]
    }
   ],
   "source": [
    "from keras.models import Sequential\n",
    "from keras.layers import Conv2D, MaxPooling2D\n",
    "from keras.layers import Activation, Dropout, Flatten, Dense\n",
    "#Adding sequential model in keras\n",
    "model = Sequential()\n",
    "# Image size 64*64 \n",
    "model.add(Conv2D(32, (3, 3), input_shape=(64, 64, 3)))\n",
    "#ReLu adds nonlinearity to the network.\n",
    "model.add(Activation('relu'))\n",
    "# Pooling helps to reduce dimensions.\n",
    "model.add(MaxPooling2D(pool_size=(2, 2)))\n",
    "\n",
    "model.add(Conv2D(32, (3, 3)))\n",
    "model.add(Activation('relu'))\n",
    "model.add(MaxPooling2D(pool_size=(2, 2)))\n",
    "\n",
    "model.add(Conv2D(64, (3, 3)))\n",
    "model.add(Activation('relu'))\n",
    "model.add(MaxPooling2D(pool_size=(2, 2)))\n",
    "#Fully connected layer to detect final high level features.\n",
    "model.add(Flatten())  \n",
    "model.add(Dense(64))\n",
    "model.add(Activation('relu'))\n",
    "#Dropout is added to reduce overfitting.\n",
    "model.add(Dropout(0.5))\n",
    "\n",
    "model.add(Dense(1))\n",
    "model.add(Activation('sigmoid'))\n",
    "\n",
    "model.compile(loss='binary_crossentropy',\n",
    "              optimizer='rmsprop',\n",
    "              metrics=['accuracy'])\n",
    "\n",
    "model.summary()"
   ]
  },
  {
   "cell_type": "code",
   "execution_count": 7,
   "metadata": {
    "scrolled": true
   },
   "outputs": [
    {
     "name": "stdout",
     "output_type": "stream",
     "text": [
      "Epoch 1/50\n",
      "1979/1979 [==============================] - 732s 370ms/step - loss: 0.4304 - acc: 0.7968 - val_loss: 0.4717 - val_acc: 0.8252\n",
      "Epoch 2/50\n",
      "1979/1979 [==============================] - 748s 378ms/step - loss: 0.2218 - acc: 0.9126 - val_loss: 0.4829 - val_acc: 0.8049\n",
      "Epoch 3/50\n",
      "1979/1979 [==============================] - 754s 381ms/step - loss: 0.1797 - acc: 0.9351 - val_loss: 0.7477 - val_acc: 0.8171\n",
      "Epoch 4/50\n",
      "1979/1979 [==============================] - 749s 379ms/step - loss: 0.1868 - acc: 0.9363 - val_loss: 0.8340 - val_acc: 0.8171\n",
      "Epoch 5/50\n",
      "1979/1979 [==============================] - 731s 369ms/step - loss: 0.1990 - acc: 0.9338 - val_loss: 0.5731 - val_acc: 0.7764\n",
      "Epoch 6/50\n",
      "1979/1979 [==============================] - 757s 383ms/step - loss: 0.2157 - acc: 0.9299 - val_loss: 0.7157 - val_acc: 0.8008\n",
      "Epoch 7/50\n",
      "1979/1979 [==============================] - 750s 379ms/step - loss: 0.2172 - acc: 0.9284 - val_loss: 1.1912 - val_acc: 0.8211\n",
      "Epoch 8/50\n",
      "1979/1979 [==============================] - 756s 382ms/step - loss: 0.2378 - acc: 0.9245 - val_loss: 1.1830 - val_acc: 0.8333\n",
      "Epoch 9/50\n",
      "1979/1979 [==============================] - 731s 369ms/step - loss: 0.2222 - acc: 0.9286 - val_loss: 0.6972 - val_acc: 0.8496\n",
      "Epoch 10/50\n",
      "1979/1979 [==============================] - 738s 373ms/step - loss: 0.2294 - acc: 0.9278 - val_loss: 0.6715 - val_acc: 0.8699\n",
      "Epoch 11/50\n",
      "1979/1979 [==============================] - 754s 381ms/step - loss: 0.2055 - acc: 0.9326 - val_loss: 1.1466 - val_acc: 0.8008\n",
      "Epoch 12/50\n",
      "1979/1979 [==============================] - 730s 369ms/step - loss: 0.2087 - acc: 0.9341 - val_loss: 0.6105 - val_acc: 0.8699\n",
      "Epoch 13/50\n",
      "1979/1979 [==============================] - 730s 369ms/step - loss: 0.2059 - acc: 0.9346 - val_loss: 0.4687 - val_acc: 0.8455\n",
      "Epoch 14/50\n",
      "1979/1979 [==============================] - 728s 368ms/step - loss: 0.2174 - acc: 0.9336 - val_loss: 1.0434 - val_acc: 0.8333\n",
      "Epoch 15/50\n",
      "1979/1979 [==============================] - 729s 368ms/step - loss: 0.2371 - acc: 0.9340 - val_loss: 0.7679 - val_acc: 0.8293\n",
      "Epoch 16/50\n",
      "1979/1979 [==============================] - 728s 368ms/step - loss: 0.2252 - acc: 0.9367 - val_loss: 0.4537 - val_acc: 0.7967\n",
      "Epoch 17/50\n",
      "1979/1979 [==============================] - 728s 368ms/step - loss: 0.1973 - acc: 0.9366 - val_loss: 0.6708 - val_acc: 0.8293\n",
      "Epoch 18/50\n",
      "1979/1979 [==============================] - 729s 368ms/step - loss: 0.2165 - acc: 0.9349 - val_loss: 0.7978 - val_acc: 0.8171\n",
      "Epoch 19/50\n",
      "1979/1979 [==============================] - 730s 369ms/step - loss: 0.2230 - acc: 0.9354 - val_loss: 0.6843 - val_acc: 0.7927\n",
      "Epoch 20/50\n",
      "1979/1979 [==============================] - 731s 369ms/step - loss: 0.2420 - acc: 0.9321 - val_loss: 0.7895 - val_acc: 0.7805\n",
      "Epoch 21/50\n",
      "1979/1979 [==============================] - 730s 369ms/step - loss: 0.2357 - acc: 0.9322 - val_loss: 1.1301 - val_acc: 0.8130\n",
      "Epoch 22/50\n",
      "1979/1979 [==============================] - 730s 369ms/step - loss: 0.2323 - acc: 0.9310 - val_loss: 0.5995 - val_acc: 0.8211\n",
      "Epoch 23/50\n",
      "1979/1979 [==============================] - 720s 364ms/step - loss: 0.2490 - acc: 0.9276 - val_loss: 0.7040 - val_acc: 0.8496\n",
      "Epoch 24/50\n",
      "1979/1979 [==============================] - 710s 359ms/step - loss: 0.2662 - acc: 0.9302 - val_loss: 0.9392 - val_acc: 0.8659\n",
      "Epoch 25/50\n",
      "1979/1979 [==============================] - 711s 359ms/step - loss: 0.2503 - acc: 0.9291 - val_loss: 0.9246 - val_acc: 0.8211\n",
      "Epoch 26/50\n",
      "1979/1979 [==============================] - 711s 359ms/step - loss: 0.2640 - acc: 0.9252 - val_loss: 1.5680 - val_acc: 0.7886\n",
      "Epoch 27/50\n",
      "1979/1979 [==============================] - 710s 359ms/step - loss: 0.2936 - acc: 0.9220 - val_loss: 1.1181 - val_acc: 0.8333\n",
      "Epoch 28/50\n",
      "1979/1979 [==============================] - 710s 359ms/step - loss: 0.2746 - acc: 0.9210 - val_loss: 1.4169 - val_acc: 0.7642\n",
      "Epoch 29/50\n",
      "1979/1979 [==============================] - 709s 358ms/step - loss: 0.2885 - acc: 0.9198 - val_loss: 0.8181 - val_acc: 0.8293\n",
      "Epoch 30/50\n",
      "1979/1979 [==============================] - 720s 364ms/step - loss: 0.4495 - acc: 0.9067 - val_loss: 6.0672 - val_acc: 0.6138\n",
      "Epoch 31/50\n",
      "1979/1979 [==============================] - 734s 371ms/step - loss: 1.6217 - acc: 0.8457 - val_loss: 0.7082 - val_acc: 0.8171\n",
      "Epoch 32/50\n",
      "1979/1979 [==============================] - 730s 369ms/step - loss: 0.4033 - acc: 0.9119 - val_loss: 1.0217 - val_acc: 0.7480\n",
      "Epoch 33/50\n",
      "1979/1979 [==============================] - 732s 370ms/step - loss: 0.3138 - acc: 0.9100 - val_loss: 0.7968 - val_acc: 0.8008\n",
      "Epoch 34/50\n",
      "1979/1979 [==============================] - 730s 369ms/step - loss: 0.3241 - acc: 0.9129 - val_loss: 0.6516 - val_acc: 0.7886\n",
      "Epoch 35/50\n",
      "1979/1979 [==============================] - 731s 369ms/step - loss: 0.3068 - acc: 0.9119 - val_loss: 0.8352 - val_acc: 0.8333\n",
      "Epoch 36/50\n",
      "1979/1979 [==============================] - 730s 369ms/step - loss: 0.3370 - acc: 0.9046 - val_loss: 0.8015 - val_acc: 0.8211\n",
      "Epoch 37/50\n",
      "1979/1979 [==============================] - 730s 369ms/step - loss: 0.3383 - acc: 0.9091 - val_loss: 0.6796 - val_acc: 0.8008\n",
      "Epoch 38/50\n",
      "1979/1979 [==============================] - 731s 369ms/step - loss: 0.3290 - acc: 0.9108 - val_loss: 0.7908 - val_acc: 0.8089\n",
      "Epoch 39/50\n",
      "1979/1979 [==============================] - 730s 369ms/step - loss: 0.3470 - acc: 0.9077 - val_loss: 1.3308 - val_acc: 0.8211\n",
      "Epoch 40/50\n",
      "1979/1979 [==============================] - 730s 369ms/step - loss: 0.3155 - acc: 0.9111 - val_loss: 1.7110 - val_acc: 0.8130\n",
      "Epoch 41/50\n",
      "1979/1979 [==============================] - 728s 368ms/step - loss: 0.3429 - acc: 0.9071 - val_loss: 0.8930 - val_acc: 0.8211\n",
      "Epoch 42/50\n",
      "1979/1979 [==============================] - 729s 368ms/step - loss: 0.4646 - acc: 0.9029 - val_loss: 1.0506 - val_acc: 0.7846\n",
      "Epoch 43/50\n",
      "1979/1979 [==============================] - 731s 369ms/step - loss: 0.3506 - acc: 0.9102 - val_loss: 0.8480 - val_acc: 0.7967\n",
      "Epoch 44/50\n",
      "1979/1979 [==============================] - 732s 370ms/step - loss: 0.3518 - acc: 0.9056 - val_loss: 1.4190 - val_acc: 0.7764\n",
      "Epoch 45/50\n",
      "1979/1979 [==============================] - 733s 370ms/step - loss: 0.3830 - acc: 0.9042 - val_loss: 0.8542 - val_acc: 0.8089\n",
      "Epoch 46/50\n",
      "1979/1979 [==============================] - 733s 370ms/step - loss: 0.3562 - acc: 0.9065 - val_loss: 0.8824 - val_acc: 0.7642\n",
      "Epoch 47/50\n",
      "1979/1979 [==============================] - 732s 370ms/step - loss: 0.6733 - acc: 0.8848 - val_loss: 0.9409 - val_acc: 0.7561\n",
      "Epoch 48/50\n",
      "1979/1979 [==============================] - 731s 370ms/step - loss: 0.3668 - acc: 0.9028 - val_loss: 1.4821 - val_acc: 0.7683\n",
      "Epoch 49/50\n",
      "1979/1979 [==============================] - 731s 370ms/step - loss: 0.3903 - acc: 0.8940 - val_loss: 1.6761 - val_acc: 0.7683\n",
      "Epoch 50/50\n",
      "1979/1979 [==============================] - 731s 370ms/step - loss: 1.4130 - acc: 0.8397 - val_loss: 0.9199 - val_acc: 0.8171\n"
     ]
    }
   ],
   "source": [
    "cp = keras.callbacks.ModelCheckpoint('/home/prajacta/yt8m', \n",
    "                                                 save_weights_only=True,\n",
    "                                                 verbose=1)\n",
    "tb=keras.callbacks.TensorBoard(log_dir='./home'.format(time()), histogram_freq=0,  \n",
    "          write_graph=True, write_images=True)\n",
    "from PIL import ImageFile\n",
    "ImageFile.LOAD_TRUNCATED_IMAGES = True\n",
    "history=model.fit_generator(\n",
    "        train_data,\n",
    "        steps_per_epoch=train_data.n,\n",
    "        epochs=50,\n",
    "        validation_data=valid_data,\n",
    "        validation_steps=valid_data.n, callbacks = [tb])\n",
    "model.save('mymodel.h5') "
   ]
  },
  {
   "cell_type": "code",
   "execution_count": 8,
   "metadata": {},
   "outputs": [
    {
     "data": {
      "text/plain": [
       "[1.128835253715515, 0.7959999980926513]"
      ]
     },
     "execution_count": 8,
     "metadata": {},
     "output_type": "execute_result"
    }
   ],
   "source": [
    "model.evaluate_generator(test_data, len(test_data))"
   ]
  },
  {
   "cell_type": "code",
   "execution_count": 9,
   "metadata": {},
   "outputs": [],
   "source": [
    "probabilities = model.predict_generator(test_data, len(test_data))"
   ]
  },
  {
   "cell_type": "code",
   "execution_count": 10,
   "metadata": {},
   "outputs": [
    {
     "data": {
      "text/plain": [
       "array([[60, 65],\n",
       "       [66, 59]])"
      ]
     },
     "execution_count": 10,
     "metadata": {},
     "output_type": "execute_result"
    }
   ],
   "source": [
    "from sklearn.metrics import confusion_matrix\n",
    "\n",
    "y_true = np.array([0] * 125 + [1] * 125)\n",
    "y_pred = probabilities > 0.5\n",
    "\n",
    "confusion_matrix(y_true, y_pred)"
   ]
  },
  {
   "cell_type": "code",
   "execution_count": 11,
   "metadata": {},
   "outputs": [
    {
     "name": "stdout",
     "output_type": "stream",
     "text": [
      "[[1]]\n"
     ]
    }
   ],
   "source": [
    "import numpy as np\n",
    "from keras.preprocessing import image\n",
    "img = image.load_img('test3.jpg', target_size=(64, 64))\n",
    "x = image.img_to_array(img)\n",
    "x = np.expand_dims(x, axis=0)\n",
    "\n",
    "images = np.vstack([x])\n",
    "classes = model.predict_classes(images, batch_size=10)\n",
    "print classes\n",
    "\n"
   ]
  },
  {
   "cell_type": "code",
   "execution_count": 12,
   "metadata": {},
   "outputs": [],
   "source": [
    "label=train_data.class_indices"
   ]
  },
  {
   "cell_type": "code",
   "execution_count": 13,
   "metadata": {},
   "outputs": [
    {
     "data": {
      "text/plain": [
       "{'indoor': 0, 'outdoor': 1}"
      ]
     },
     "execution_count": 13,
     "metadata": {},
     "output_type": "execute_result"
    }
   ],
   "source": [
    "label"
   ]
  },
  {
   "cell_type": "code",
   "execution_count": 15,
   "metadata": {},
   "outputs": [
    {
     "data": {
      "image/png": "[encoded data removed]",
      "text/plain": [
       "<Figure size 432x288 with 1 Axes>"
      ]
     },
     "metadata": {
      "needs_background": "light"
     },
     "output_type": "display_data"
    },
    {
     "data": {
      "image/png": "[encoded data removed]",
      "text/plain": [
       "<Figure size 432x288 with 1 Axes>"
      ]
     },
     "metadata": {
      "needs_background": "light"
     },
     "output_type": "display_data"
    }
   ],
   "source": [
    "import matplotlib.pyplot as plt\n",
    "\n",
    "\n",
    "# plots keras\n",
    "plt.plot(history.history['acc'])\n",
    "plt.plot(history.history['val_acc'])\n",
    "plt.title('Model accuracy')\n",
    "plt.ylabel('Accuracy')\n",
    "plt.xlabel('Epoch')\n",
    "plt.legend(['Train', 'Test'], loc='upper left')\n",
    "plt.show()\n",
    "\n",
    "# Plot training & validation loss values\n",
    "plt.plot(history.history['loss'])\n",
    "plt.plot(history.history['val_loss'])\n",
    "plt.title('Model loss')\n",
    "plt.ylabel('Loss')\n",
    "plt.xlabel('Epoch')\n",
    "plt.show()\n"
   ]
  },
  {
   "cell_type": "code",
   "execution_count": 16,
   "metadata": {},
   "outputs": [],
   "source": [
    "from keras.utils import plot_model\n",
    "plot_model(model, to_file='model.png')\n",
    "\n"
   ]
  },
  {
   "cell_type": "code",
   "execution_count": null,
   "metadata": {},
   "outputs": [],
   "source": []
  }
 ],
 "metadata": {
  "kernelspec": {
   "display_name": "Python 2",
   "language": "python",
   "name": "python2"
  },
  "language_info": {
   "codemirror_mode": {
    "name": "ipython",
    "version": 2
   },
   "file_extension": ".py",
   "mimetype": "text/x-python",
   "name": "python",
   "nbconvert_exporter": "python",
   "pygments_lexer": "ipython2",
   "version": "2.7.12"
  }
 },
 "nbformat": 4,
 "nbformat_minor": 2
}
